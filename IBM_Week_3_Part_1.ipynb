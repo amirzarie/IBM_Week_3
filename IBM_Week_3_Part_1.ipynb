{
  "nbformat": 4,
  "nbformat_minor": 0,
  "metadata": {
    "colab": {
      "name": "IBM_Week_3_Part_1.ipynb",
      "provenance": [],
      "collapsed_sections": []
    },
    "kernelspec": {
      "name": "python3",
      "display_name": "Python 3"
    }
  },
  "cells": [
    {
      "cell_type": "markdown",
      "metadata": {
        "id": "ilU8tnbB49iJ",
        "colab_type": "text"
      },
      "source": [
        "## IBM Week 3 Capstone Project\n",
        "#### The code below scrapes the provided wikipedia page for the raw data and cleans it. The data includes the postal codes, borouhs, and neighorhoods in Toronto."
      ]
    },
    {
      "cell_type": "code",
      "metadata": {
        "id": "V5lOXhrk47G7",
        "colab_type": "code",
        "colab": {
          "base_uri": "https://localhost:8080/",
          "height": 118
        },
        "outputId": "6c4edb5a-07bb-401f-b6f3-04fed0907d08"
      },
      "source": [
        "import pandas as pd\n",
        "\n",
        "raw_data = pd.read_html('https://en.wikipedia.org/wiki/List_of_postal_codes_of_Canada:_M', header=0)\n",
        "data = pd.DataFrame(raw_data[0]).dropna(subset=['Neighborhood']).reset_index(drop=True)\n",
        "print(data.head())"
      ],
      "execution_count": 3,
      "outputs": [
        {
          "output_type": "stream",
          "text": [
            "  Postal Code           Borough                                 Neighborhood\n",
            "0         M3A        North York                                    Parkwoods\n",
            "1         M4A        North York                             Victoria Village\n",
            "2         M5A  Downtown Toronto                    Regent Park, Harbourfront\n",
            "3         M6A        North York             Lawrence Manor, Lawrence Heights\n",
            "4         M7A  Downtown Toronto  Queen's Park, Ontario Provincial Government\n"
          ],
          "name": "stdout"
        }
      ]
    },
    {
      "cell_type": "markdown",
      "metadata": {
        "id": "FtCGDknB5D-v",
        "colab_type": "text"
      },
      "source": [
        "#### The code below prints the shape of the data obtained from wikipedia."
      ]
    },
    {
      "cell_type": "code",
      "metadata": {
        "id": "OyGpazO65BdK",
        "colab_type": "code",
        "colab": {
          "base_uri": "https://localhost:8080/",
          "height": 34
        },
        "outputId": "08656694-562c-484d-986d-cfdfd797588e"
      },
      "source": [
        "print(data.shape)"
      ],
      "execution_count": 2,
      "outputs": [
        {
          "output_type": "stream",
          "text": [
            "(103, 3)\n"
          ],
          "name": "stdout"
        }
      ]
    }
  ]
}