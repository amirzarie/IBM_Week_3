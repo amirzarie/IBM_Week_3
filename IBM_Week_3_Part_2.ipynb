{
  "nbformat": 4,
  "nbformat_minor": 0,
  "metadata": {
    "colab": {
      "name": "IBM_Week_3_Part_2.ipynb",
      "provenance": []
    },
    "kernelspec": {
      "name": "python3",
      "display_name": "Python 3"
    }
  },
  "cells": [
    {
      "cell_type": "code",
      "metadata": {
        "id": "frJDXTPKHu8p",
        "colab_type": "code",
        "colab": {}
      },
      "source": [
        "from geopy.geocoders import Nominatim\n",
        "import pandas as pd"
      ],
      "execution_count": 0,
      "outputs": []
    },
    {
      "cell_type": "markdown",
      "metadata": {
        "id": "SsYpBsm4City",
        "colab_type": "text"
      },
      "source": [
        "## IBM Week 3 Capstone Project\n",
        "#### The code below scrapes the provided wikipedia page for the raw data and cleans it. The data includes the postal codes, borouhs, and neighorhoods in Toronto."
      ]
    },
    {
      "cell_type": "code",
      "metadata": {
        "id": "i-_T23o8Ck9w",
        "colab_type": "code",
        "colab": {
          "base_uri": "https://localhost:8080/",
          "height": 118
        },
        "outputId": "e706caa5-da01-4cb9-e6b4-617c494854dc"
      },
      "source": [
        "raw_data = pd.read_html('https://en.wikipedia.org/wiki/List_of_postal_codes_of_Canada:_M', header=0)\n",
        "data = pd.DataFrame(raw_data[0]).dropna(subset=['Neighborhood']).reset_index(drop=True)\n",
        "print(data.head())"
      ],
      "execution_count": 3,
      "outputs": [
        {
          "output_type": "stream",
          "text": [
            "  Postal Code           Borough                                 Neighborhood\n",
            "0         M3A        North York                                    Parkwoods\n",
            "1         M4A        North York                             Victoria Village\n",
            "2         M5A  Downtown Toronto                    Regent Park, Harbourfront\n",
            "3         M6A        North York             Lawrence Manor, Lawrence Heights\n",
            "4         M7A  Downtown Toronto  Queen's Park, Ontario Provincial Government\n"
          ],
          "name": "stdout"
        }
      ]
    },
    {
      "cell_type": "markdown",
      "metadata": {
        "id": "bVTi4_rdCnNC",
        "colab_type": "text"
      },
      "source": [
        "#### The code below prints the shape of the data obtained from wikipedia."
      ]
    },
    {
      "cell_type": "code",
      "metadata": {
        "id": "MggtAuN1CqGM",
        "colab_type": "code",
        "colab": {
          "base_uri": "https://localhost:8080/",
          "height": 34
        },
        "outputId": "daa51071-a4ba-49d0-e4ab-39b98d2599b8"
      },
      "source": [
        "print(data.shape)"
      ],
      "execution_count": 2,
      "outputs": [
        {
          "output_type": "stream",
          "text": [
            "(103, 3)\n"
          ],
          "name": "stdout"
        }
      ]
    },
    {
      "cell_type": "markdown",
      "metadata": {
        "id": "50gjruykCs_W",
        "colab_type": "text"
      },
      "source": [
        "#### The code below reads the CSV file containing the latitude and longitude of the borough and neighborhood data of Toronto."
      ]
    },
    {
      "cell_type": "code",
      "metadata": {
        "id": "R9ebNSLUC3Gj",
        "colab_type": "code",
        "colab": {}
      },
      "source": [
        "PC = pd.read_csv('/Geospatial_Coordinates.csv')"
      ],
      "execution_count": 0,
      "outputs": []
    },
    {
      "cell_type": "markdown",
      "metadata": {
        "id": "XI-oKcYbD-Xt",
        "colab_type": "text"
      },
      "source": [
        "#### The code below creates the full datafram of postal codes and their associated latitude and longitude."
      ]
    },
    {
      "cell_type": "code",
      "metadata": {
        "id": "r02l-fGWEAsU",
        "colab_type": "code",
        "colab": {
          "base_uri": "https://localhost:8080/",
          "height": 252
        },
        "outputId": "6fa38a0b-d35b-41a7-9b99-7179ce8a9dc2"
      },
      "source": [
        "latitude = list()\n",
        "longitude = list()\n",
        "\n",
        "for pc in data['Postal Code']:\n",
        "    i = PC.index[PC['Postal Code'] == pc].values\n",
        "    latitude.append(PC.loc[i, 'Latitude'])\n",
        "    longitude.append(PC.loc[i, 'Longitude'])\n",
        "\n",
        "data['Latitude'] = latitude\n",
        "data['Longitude'] = longitude\n",
        "\n",
        "print(data.head())\n",
        "print(data.shape)\n",
        "\n",
        "# The dataframe is complete, however it is shown in a condensed way below.\n",
        "# The shape of the dataframe is also provide for proof."
      ],
      "execution_count": 15,
      "outputs": [
        {
          "output_type": "stream",
          "text": [
            "  Postal Code  ...                                        Longitude\n",
            "0         M3A  ...  25   -79.329656\n",
            "Name: Longitude, dtype: float64\n",
            "1         M4A  ...  34   -79.315572\n",
            "Name: Longitude, dtype: float64\n",
            "2         M5A  ...  53   -79.360636\n",
            "Name: Longitude, dtype: float64\n",
            "3         M6A  ...  71   -79.464763\n",
            "Name: Longitude, dtype: float64\n",
            "4         M7A  ...  85   -79.389494\n",
            "Name: Longitude, dtype: float64\n",
            "\n",
            "[5 rows x 5 columns]\n",
            "(103, 5)\n"
          ],
          "name": "stdout"
        }
      ]
    }
  ]
}